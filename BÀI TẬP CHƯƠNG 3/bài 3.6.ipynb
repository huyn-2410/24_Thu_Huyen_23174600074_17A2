{
 "cells": [
  {
   "cell_type": "code",
   "execution_count": 18,
   "metadata": {},
   "outputs": [],
   "source": [
    "import numpy as np"
   ]
  },
  {
   "cell_type": "markdown",
   "metadata": {},
   "source": [
    "phần 1:"
   ]
  },
  {
   "cell_type": "code",
   "execution_count": 19,
   "metadata": {},
   "outputs": [
    {
     "name": "stdout",
     "output_type": "stream",
     "text": [
      "Mảng arr với các giá trị True: \n",
      "[[ True  True  True]\n",
      " [ True  True  True]\n",
      " [ True  True  True]]\n"
     ]
    }
   ],
   "source": [
    "arr=np.ones((3,3),dtype=bool)\n",
    "print(\"Mảng arr với các giá trị True: \")\n",
    "print(arr)"
   ]
  },
  {
   "cell_type": "markdown",
   "metadata": {},
   "source": [
    "phần 2"
   ]
  },
  {
   "cell_type": "code",
   "execution_count": 20,
   "metadata": {},
   "outputs": [
    {
     "name": "stdout",
     "output_type": "stream",
     "text": [
      "Mảng sau khi đổi là:\n",
      "[[2 1 0]\n",
      " [5 4 3]\n",
      " [8 7 6]]\n"
     ]
    }
   ],
   "source": [
    "arr_1D=np.array([0,1,2,3,4,5,6,7,8])\n",
    "arr_2D=arr_1D.reshape(3,3)\n",
    "arr_2D[:,[0,2]]=arr_2D[:,[2,0]]\n",
    "print(\"Mảng sau khi đổi là:\")\n",
    "print(arr_2D)"
   ]
  },
  {
   "cell_type": "markdown",
   "metadata": {},
   "source": [
    "phần 3:"
   ]
  },
  {
   "cell_type": "code",
   "execution_count": 21,
   "metadata": {},
   "outputs": [
    {
     "name": "stdout",
     "output_type": "stream",
     "text": [
      "Mảng sau khi đổi dòng là:\n",
      "[[5 4 3]\n",
      " [2 1 0]\n",
      " [8 7 6]]\n"
     ]
    }
   ],
   "source": [
    "arr_2D[[0,1]]=arr_2D[[1,0]]\n",
    "print(\"Mảng sau khi đổi dòng là:\")\n",
    "print(arr_2D)"
   ]
  },
  {
   "cell_type": "markdown",
   "metadata": {},
   "source": [
    "phần 4:"
   ]
  },
  {
   "cell_type": "code",
   "execution_count": 22,
   "metadata": {},
   "outputs": [
    {
     "name": "stdout",
     "output_type": "stream",
     "text": [
      "Mảng 2D sau đảo ngược các dòng:\n",
      "[[8 7 6]\n",
      " [2 1 0]\n",
      " [5 4 3]]\n"
     ]
    }
   ],
   "source": [
    "arr_2D_dao_nguoc=arr_2D[::-1]\n",
    "print(\"Mảng 2D sau đảo ngược các dòng:\")\n",
    "print(arr_2D_dao_nguoc)"
   ]
  },
  {
   "cell_type": "markdown",
   "metadata": {},
   "source": [
    "phần 5:"
   ]
  },
  {
   "cell_type": "code",
   "execution_count": 23,
   "metadata": {},
   "outputs": [
    {
     "name": "stdout",
     "output_type": "stream",
     "text": [
      "Mảng 2D sao khi đảo ngược các cột là:\n",
      "[[6 7 8]\n",
      " [0 1 2]\n",
      " [3 4 5]]\n"
     ]
    }
   ],
   "source": [
    "arr_2D_dao_nguoc_cot=arr_2D_dao_nguoc[:,::-1]\n",
    "print(\"Mảng 2D sao khi đảo ngược các cột là:\")\n",
    "print(arr_2D_dao_nguoc_cot)"
   ]
  },
  {
   "cell_type": "markdown",
   "metadata": {},
   "source": [
    "phần 6:"
   ]
  },
  {
   "cell_type": "code",
   "execution_count": 24,
   "metadata": {},
   "outputs": [
    {
     "name": "stdout",
     "output_type": "stream",
     "text": [
      "mảng có chứa giá trị NaN\n"
     ]
    }
   ],
   "source": [
    "arr_2D_null=np.array([[1,2,3],\n",
    "                      [np.nan,5,6],\n",
    "                      [7,np.nan,9],\n",
    "                      [4,5,6]])\n",
    "gia_tri_rong=np.any(np.isnan(arr_2D_null))\n",
    "if gia_tri_rong:\n",
    "    print(\"mảng có chứa giá trị NaN\")\n",
    "else:\n",
    "    print(\"Mảng không có giá trị NaN\")    "
   ]
  },
  {
   "cell_type": "markdown",
   "metadata": {},
   "source": [
    "phần 7"
   ]
  },
  {
   "cell_type": "code",
   "execution_count": 25,
   "metadata": {},
   "outputs": [
    {
     "name": "stdout",
     "output_type": "stream",
     "text": [
      "Mảng sau khi thay thế là:\n",
      "[[1. 2. 3.]\n",
      " [0. 5. 6.]\n",
      " [7. 0. 9.]\n",
      " [4. 5. 6.]]\n"
     ]
    }
   ],
   "source": [
    "arr_2D_null[np.isnan(arr_2D_null)]=0\n",
    "print(\"Mảng sau khi thay thế là:\")\n",
    "print(arr_2D_null)"
   ]
  }
 ],
 "metadata": {
  "kernelspec": {
   "display_name": "Python 3",
   "language": "python",
   "name": "python3"
  },
  "language_info": {
   "codemirror_mode": {
    "name": "ipython",
    "version": 3
   },
   "file_extension": ".py",
   "mimetype": "text/x-python",
   "name": "python",
   "nbconvert_exporter": "python",
   "pygments_lexer": "ipython3",
   "version": "3.12.3"
  }
 },
 "nbformat": 4,
 "nbformat_minor": 2
}
