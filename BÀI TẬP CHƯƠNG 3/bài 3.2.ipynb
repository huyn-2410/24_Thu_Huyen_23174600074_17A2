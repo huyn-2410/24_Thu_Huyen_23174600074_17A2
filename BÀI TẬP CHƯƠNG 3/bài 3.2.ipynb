{
 "cells": [
  {
   "cell_type": "code",
   "execution_count": 4,
   "metadata": {},
   "outputs": [],
   "source": [
    "import numpy as np"
   ]
  },
  {
   "cell_type": "markdown",
   "metadata": {},
   "source": [
    "phần 1:"
   ]
  },
  {
   "cell_type": "code",
   "execution_count": 6,
   "metadata": {},
   "outputs": [
    {
     "name": "stdout",
     "output_type": "stream",
     "text": [
      "Các phần tử trong mảng: [0 1 2 3 4 5 6 7 8 9]\n",
      "Kiểu dữ liệu tron mảng: int64\n",
      "kích thước của mảng: (10,)\n"
     ]
    }
   ],
   "source": [
    "\n",
    "arr=np.arange(10)\n",
    "print(\"Các phần tử trong mảng:\",arr)\n",
    "print(\"Kiểu dữ liệu tron mảng:\",arr.dtype)\n",
    "print(\"kích thước của mảng:\",arr.shape)\n"
   ]
  },
  {
   "cell_type": "markdown",
   "metadata": {},
   "source": [
    "phần 2:"
   ]
  },
  {
   "cell_type": "code",
   "execution_count": 7,
   "metadata": {},
   "outputs": [
    {
     "name": "stdout",
     "output_type": "stream",
     "text": [
      "Mảng chứa các số lẻ: [1 3 5 7 9]\n",
      "Mảng chứa các số chẵn: [0 2 4 6 8]\n"
     ]
    }
   ],
   "source": [
    "arr_odd=arr[arr%2!=0]\n",
    "arr_even=arr[arr%2==0]\n",
    "print(\"Mảng chứa các số lẻ:\",arr_odd)\n",
    "print(\"Mảng chứa các số chẵn:\",arr_even)"
   ]
  },
  {
   "cell_type": "markdown",
   "metadata": {},
   "source": [
    "phần 3:"
   ]
  },
  {
   "cell_type": "code",
   "execution_count": 9,
   "metadata": {},
   "outputs": [
    {
     "name": "stdout",
     "output_type": "stream",
     "text": [
      "Mảng đã cập nhật là: [  0 100   2 100   4 100   6 100   8 100]\n"
     ]
    }
   ],
   "source": [
    "arr_update_1=np.where(arr%2==0,arr,100)\n",
    "print(\"Mảng đã cập nhật là:\",arr_update_1)"
   ]
  }
 ],
 "metadata": {
  "kernelspec": {
   "display_name": "Python 3",
   "language": "python",
   "name": "python3"
  },
  "language_info": {
   "codemirror_mode": {
    "name": "ipython",
    "version": 3
   },
   "file_extension": ".py",
   "mimetype": "text/x-python",
   "name": "python",
   "nbconvert_exporter": "python",
   "pygments_lexer": "ipython3",
   "version": "3.12.3"
  }
 },
 "nbformat": 4,
 "nbformat_minor": 2
}
