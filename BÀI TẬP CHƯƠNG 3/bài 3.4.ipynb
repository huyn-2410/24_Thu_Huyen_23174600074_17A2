{
 "cells": [
  {
   "cell_type": "code",
   "execution_count": 1,
   "metadata": {},
   "outputs": [],
   "source": [
    "import numpy as np"
   ]
  },
  {
   "cell_type": "markdown",
   "metadata": {},
   "source": [
    "phần 1:"
   ]
  },
  {
   "cell_type": "code",
   "execution_count": 2,
   "metadata": {},
   "outputs": [
    {
     "name": "stdout",
     "output_type": "stream",
     "text": [
      "[0 0 0 0 0 0 0 0 0 0]\n"
     ]
    }
   ],
   "source": [
    "arr_zeros=np.zeros(10,dtype=int)\n",
    "print(arr_zeros)"
   ]
  },
  {
   "cell_type": "code",
   "execution_count": 3,
   "metadata": {},
   "outputs": [
    {
     "name": "stdout",
     "output_type": "stream",
     "text": [
      "Mảng sau khi cập nhật là: [0 0 0 0 1 0 0 0 0 0]\n"
     ]
    }
   ],
   "source": [
    "arr_zeros[4]=1\n",
    "print(\"Mảng sau khi cập nhật là:\",arr_zeros)"
   ]
  },
  {
   "cell_type": "markdown",
   "metadata": {},
   "source": [
    "phần 2:"
   ]
  },
  {
   "cell_type": "code",
   "execution_count": 4,
   "metadata": {},
   "outputs": [
    {
     "name": "stdout",
     "output_type": "stream",
     "text": [
      "mảng sau khi tạo: [10 11 12 13 14 15 16 17 18 19 20 21 22 23 24]\n"
     ]
    }
   ],
   "source": [
    "arr_h=np.arange(10,25)\n",
    "print(\"mảng sau khi tạo:\",arr_h)"
   ]
  },
  {
   "cell_type": "code",
   "execution_count": 5,
   "metadata": {},
   "outputs": [
    {
     "name": "stdout",
     "output_type": "stream",
     "text": [
      "mảng sau khi đảo ngược: [24 23 22 21 20 19 18 17 16 15 14 13 12 11 10]\n"
     ]
    }
   ],
   "source": [
    "arr_h_1=arr_h[::-1]\n",
    "print(\"mảng sau khi đảo ngược:\",arr_h_1)"
   ]
  },
  {
   "cell_type": "markdown",
   "metadata": {},
   "source": [
    "phần 3:"
   ]
  },
  {
   "cell_type": "code",
   "execution_count": 6,
   "metadata": {},
   "outputs": [
    {
     "name": "stdout",
     "output_type": "stream",
     "text": [
      "mảng các phần tử khác 0: [1 2 8 2 1 3 5]\n"
     ]
    }
   ],
   "source": [
    "arr_k=np.array([1,2,0,8,2,0,1,3,0,5,0])\n",
    "arr_l=arr_k[arr_k!=0]\n",
    "print(\"mảng các phần tử khác 0:\",arr_l)"
   ]
  },
  {
   "cell_type": "markdown",
   "metadata": {},
   "source": [
    "phần  4:"
   ]
  },
  {
   "cell_type": "code",
   "execution_count": 7,
   "metadata": {},
   "outputs": [
    {
     "name": "stdout",
     "output_type": "stream",
     "text": [
      "Mảngg sau khi thêm là: [ 1  2  8  2  1  3  5 10 20]\n"
     ]
    }
   ],
   "source": [
    "arr_l_1=np.append(arr_l,[10,20])\n",
    "print(\"Mảngg sau khi thêm là:\",arr_l_1)"
   ]
  },
  {
   "cell_type": "markdown",
   "metadata": {},
   "source": [
    "phần 5:"
   ]
  },
  {
   "cell_type": "code",
   "execution_count": 8,
   "metadata": {},
   "outputs": [
    {
     "name": "stdout",
     "output_type": "stream",
     "text": [
      "Mảng sau khi thêm là: [  1   2   8   2   1 100   3   5  10  20]\n"
     ]
    }
   ],
   "source": [
    "arr_l_2=np.insert(arr_l_1,5,100)\n",
    "print(\"Mảng sau khi thêm là:\",arr_l_2)"
   ]
  },
  {
   "cell_type": "markdown",
   "metadata": {},
   "source": [
    "phần 6:"
   ]
  },
  {
   "cell_type": "code",
   "execution_count": 9,
   "metadata": {},
   "outputs": [
    {
     "name": "stdout",
     "output_type": "stream",
     "text": [
      "Mảng sau khi xoá là: [  2   1 100   3   5  10  20]\n"
     ]
    }
   ],
   "source": [
    "arr_l_3=np.delete(arr_l_2,[0,1,2])\n",
    "print(\"Mảng sau khi xoá là:\",arr_l_3)"
   ]
  }
 ],
 "metadata": {
  "kernelspec": {
   "display_name": "Python 3",
   "language": "python",
   "name": "python3"
  },
  "language_info": {
   "codemirror_mode": {
    "name": "ipython",
    "version": 3
   },
   "file_extension": ".py",
   "mimetype": "text/x-python",
   "name": "python",
   "nbconvert_exporter": "python",
   "pygments_lexer": "ipython3",
   "version": "3.12.3"
  }
 },
 "nbformat": 4,
 "nbformat_minor": 2
}
