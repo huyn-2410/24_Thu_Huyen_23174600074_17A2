{
 "cells": [
  {
   "cell_type": "code",
   "execution_count": 1,
   "metadata": {},
   "outputs": [
    {
     "name": "stderr",
     "output_type": "stream",
     "text": [
      "Exception in thread Exception in thread Thread-13 (run_task):\n",
      "Traceback (most recent call last):\n",
      "  File \"c:\\Users\\admin\\AppData\\Local\\Programs\\Python\\Python312\\Lib\\threading.py\", line 1073, in _bootstrap_inner\n",
      "Exception in thread Thread-12 (run_task):\n",
      "Traceback (most recent call last):\n",
      "  File \"c:\\Users\\admin\\AppData\\Local\\Programs\\Python\\Python312\\Lib\\threading.py\", line 1073, in _bootstrap_inner\n",
      "Exception in thread Thread-11 (run_task):\n",
      "Traceback (most recent call last):\n",
      "  File \"c:\\Users\\admin\\AppData\\Local\\Programs\\Python\\Python312\\Lib\\threading.py\", line 1073, in _bootstrap_inner\n",
      "Thread-10 (run_task):\n",
      "Traceback (most recent call last):\n",
      "  File \"c:\\Users\\admin\\AppData\\Local\\Programs\\Python\\Python312\\Lib\\threading.py\", line 1073, in _bootstrap_inner\n",
      "    self.run()\n",
      "  File \"C:\\Users\\admin\\AppData\\Roaming\\Python\\Python312\\site-packages\\ipykernel\\ipkernel.py\", line 766, in run_closure\n",
      "    self.run()\n",
      "  File \"C:\\Users\\admin\\AppData\\Roaming\\Python\\Python312\\site-packages\\ipykernel\\ipkernel.py\", line 766, in run_closure\n",
      "    self.run()\n",
      "  File \"C:\\Users\\admin\\AppData\\Roaming\\Python\\Python312\\site-packages\\ipykernel\\ipkernel.py\", line 766, in run_closure\n",
      "    self.run()\n",
      "  File \"C:\\Users\\admin\\AppData\\Roaming\\Python\\Python312\\site-packages\\ipykernel\\ipkernel.py\", line 766, in run_closure\n",
      "    _threading_Thread_run(self)\n",
      "  File \"c:\\Users\\admin\\AppData\\Local\\Programs\\Python\\Python312\\Lib\\threading.py\", line 1010, in run\n",
      "    _threading_Thread_run(self)\n",
      "  File \"c:\\Users\\admin\\AppData\\Local\\Programs\\Python\\Python312\\Lib\\threading.py\", line 1010, in run\n",
      "    _threading_Thread_run(self)\n",
      "  File \"c:\\Users\\admin\\AppData\\Local\\Programs\\Python\\Python312\\Lib\\threading.py\", line 1010, in run\n",
      "    _threading_Thread_run(self)\n",
      "  File \"c:\\Users\\admin\\AppData\\Local\\Programs\\Python\\Python312\\Lib\\threading.py\", line 1010, in run\n",
      "    self._target(*self._args, **self._kwargs)\n",
      "  File \"C:\\Users\\admin\\AppData\\Local\\Temp\\ipykernel_8212\\727190226.py\", line 8, in run_task\n",
      "    self._target(*self._args, **self._kwargs)\n",
      "    self._target(*self._args, **self._kwargs)\n",
      "  File \"C:\\Users\\admin\\AppData\\Local\\Temp\\ipykernel_8212\\727190226.py\", line 8, in run_task\n",
      "  File \"C:\\Users\\admin\\AppData\\Local\\Temp\\ipykernel_8212\\727190226.py\", line 8, in run_task\n",
      "    self._target(*self._args, **self._kwargs)\n",
      "  File \"C:\\Users\\admin\\AppData\\Local\\Temp\\ipykernel_8212\\727190226.py\", line 8, in run_task\n",
      "NameError: name 'counter' is not defined\n",
      "NameError: name 'counter' is not defined\n",
      "NameError: name 'counter' is not defined\n",
      "NameError: name 'counter' is not defined\n"
     ]
    }
   ],
   "source": [
    "import threading\n",
    "import time\n",
    "class SimpleTask:\n",
    "  def run_task(self):\n",
    "     global counter\n",
    "     for _ in range(4):\n",
    "        time.sleep(2)\n",
    "        counter += 1 # Tăng counter mà không sử dụng lock\n",
    "        print(f\"Counter đã tăng lên: {counter}\")\n",
    "def main():\n",
    "   tasks = [threading.Thread(target=SimpleTask().run_task) for _ in range(4)]\n",
    "   for task in tasks:\n",
    "    task.start()\n",
    "   for task in tasks:\n",
    "    task.join()\n",
    "if __name__ == \"__main__\":\n",
    "  main()"
   ]
  }
 ],
 "metadata": {
  "kernelspec": {
   "display_name": "Python 3",
   "language": "python",
   "name": "python3"
  },
  "language_info": {
   "codemirror_mode": {
    "name": "ipython",
    "version": 3
   },
   "file_extension": ".py",
   "mimetype": "text/x-python",
   "name": "python",
   "nbconvert_exporter": "python",
   "pygments_lexer": "ipython3",
   "version": "3.12.3"
  }
 },
 "nbformat": 4,
 "nbformat_minor": 2
}
