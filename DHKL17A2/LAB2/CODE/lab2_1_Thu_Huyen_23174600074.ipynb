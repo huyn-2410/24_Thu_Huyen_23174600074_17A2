{
 "cells": [
  {
   "cell_type": "code",
   "execution_count": 1,
   "metadata": {},
   "outputs": [],
   "source": [
    "import numpy as np"
   ]
  },
  {
   "cell_type": "markdown",
   "metadata": {},
   "source": [
    "phần 1:"
   ]
  },
  {
   "cell_type": "code",
   "execution_count": 2,
   "metadata": {},
   "outputs": [
    {
     "name": "stdout",
     "output_type": "stream",
     "text": [
      "Nhiệt độ trong tháng :/n [14.86 11.35 23.69 22.74 21.02 10.84 21.53 14.21 11.18 20.24 19.86 24.21\n",
      " 18.08 20.07 14.7  26.29 10.93 22.4  27.24 19.06 23.26 21.67 28.22 24.81\n",
      " 11.43 15.47 25.83 12.34 14.95 21.48]\n",
      "Trung bình nhiệt độ trong tháng là: 19.132000000000005\n"
     ]
    }
   ],
   "source": [
    "nhiet_do=np.round(np.random.uniform(10.0,30.0,size=30),2)\n",
    "print(\"Nhiệt độ trong tháng :/n\",nhiet_do)\n",
    "print(\"Trung bình nhiệt độ trong tháng là:\",np.mean(nhiet_do))"
   ]
  },
  {
   "cell_type": "markdown",
   "metadata": {},
   "source": [
    "phần 2:"
   ]
  },
  {
   "cell_type": "code",
   "execution_count": 3,
   "metadata": {},
   "outputs": [
    {
     "name": "stdout",
     "output_type": "stream",
     "text": [
      "Nhiệt độ cao nhất là:28.22 độ C,vào ngày thứ 23\n",
      "Nhiệt độ thấp nhất là:10.84 độ C,vào ngày thứ6\n",
      "Sự chênh lệch nhiệt độ lớn nhất giữa ngày liên tiếp:15.36 độ C\n",
      "Chênh lệch này xảy ra giữa ngày thứ 16 và ngày thứ 17\n"
     ]
    }
   ],
   "source": [
    "nhiet_do_max=np.max(nhiet_do)\n",
    "nhiet_do_min=np.min(nhiet_do)\n",
    "ngay_max=np.argmax(nhiet_do)+1\n",
    "ngay_min=np.argmin(nhiet_do)+1\n",
    "\n",
    "nhiet_do_diff=np.abs(np.diff(nhiet_do))\n",
    "max_diff=np.max(nhiet_do_diff)\n",
    "max_diff_day=np.argmax(nhiet_do_diff)+1\n",
    "\n",
    "print(f\"Nhiệt độ cao nhất là:{nhiet_do_max} độ C,vào ngày thứ {ngay_max}\")\n",
    "print(f\"Nhiệt độ thấp nhất là:{nhiet_do_min} độ C,vào ngày thứ{ngay_min}\")\n",
    "print(f\"Sự chênh lệch nhiệt độ lớn nhất giữa ngày liên tiếp:{max_diff} độ C\")\n",
    "print(f\"Chênh lệch này xảy ra giữa ngày thứ {max_diff_day} và ngày thứ {max_diff_day+1}\")"
   ]
  },
  {
   "cell_type": "markdown",
   "metadata": {},
   "source": [
    "phần 3:"
   ]
  },
  {
   "cell_type": "code",
   "execution_count": 4,
   "metadata": {},
   "outputs": [
    {
     "name": "stdout",
     "output_type": "stream",
     "text": [
      "1. Ngày có nhiệt độ cao hơn 20°C:\n",
      "Ngày: [ 3  4  5  7 10 12 14 16 18 19 21 22 23 24 27 30]\n",
      "Nhiệt độ: [23.69 22.74 21.02 21.53 20.24 24.21 20.07 26.29 22.4  27.24 23.26 21.67\n",
      " 28.22 24.81 25.83 21.48]\n",
      "\n",
      "2. Nhiệt độ của ngày 5, 10, 15, 20, 25:\n",
      "Nhiệt độ: [21.02 20.24 14.7  19.06 11.43]\n",
      "\n",
      "3. Ngày có nhiệt độ trên trung bình:\n",
      "Ngày: [ 3  4  5  7 10 11 12 14 16 18 19 21 22 23 24 27 30]\n",
      "Nhiệt độ: [23.69 22.74 21.02 21.53 20.24 19.86 24.21 20.07 26.29 22.4  27.24 23.26\n",
      " 21.67 28.22 24.81 25.83 21.48]\n",
      "\n",
      "4. Nhiệt độ của các ngày chẵn:\n",
      "Nhiệt độ: [11.35 22.74 10.84 14.21 20.24 24.21 20.07 26.29 22.4  19.06 21.67 24.81\n",
      " 15.47 12.34 21.48]\n",
      "\n",
      "4. Nhiệt độ của các ngày lẻ:\n",
      "Nhiệt độ: [14.86 23.69 21.02 21.53 11.18 19.86 18.08 14.7  10.93 27.24 23.26 28.22\n",
      " 11.43 25.83 14.95]\n"
     ]
    }
   ],
   "source": [
    "days_above_20 = np.where(nhiet_do  > 20)[0] + 1  # Ngày bắt đầu từ 1\n",
    "temps_above_20 = nhiet_do [nhiet_do > 20]\n",
    "\n",
    "# 2. Lấy nhiệt độ của ngày 5, 10, 15, 20, và 25\n",
    "specific_days = [5, 10, 15, 20, 25]\n",
    "temps_specific_days = nhiet_do[np.array(specific_days) - 1]  # Chỉ số mảng bắt đầu từ 0\n",
    "\n",
    "# 3. Tìm nhiệt độ của các ngày có nhiệt độ trên trung bình\n",
    "average_temp = np.mean(nhiet_do)\n",
    "above_avg_days = np.where(nhiet_do  > average_temp)[0] + 1\n",
    "above_avg_temps = nhiet_do [nhiet_do  > average_temp]\n",
    "\n",
    "# 4. Lấy nhiệt độ của các ngày chẵn/lẻ trong tháng\n",
    "even_days = np.arange(2, 31, 2)  # Các ngày chẵn từ 2 đến 30\n",
    "odd_days = np.arange(1, 31, 2)   # Các ngày lẻ từ 1 đến 29\n",
    "\n",
    "temps_even_days = nhiet_do [even_days - 1]  # Trừ 1 để chuyển sang chỉ số mảng\n",
    "temps_odd_days = nhiet_do [odd_days - 1]\n",
    "\n",
    "# Kết quả\n",
    "print(\"1. Ngày có nhiệt độ cao hơn 20°C:\")\n",
    "print(\"Ngày:\", days_above_20)\n",
    "print(\"Nhiệt độ:\", temps_above_20)\n",
    "\n",
    "print(\"\\n2. Nhiệt độ của ngày 5, 10, 15, 20, 25:\")\n",
    "print(\"Nhiệt độ:\", temps_specific_days)\n",
    "\n",
    "print(\"\\n3. Ngày có nhiệt độ trên trung bình:\")\n",
    "print(\"Ngày:\", above_avg_days)\n",
    "print(\"Nhiệt độ:\", above_avg_temps)\n",
    "\n",
    "print(\"\\n4. Nhiệt độ của các ngày chẵn:\")\n",
    "print(\"Nhiệt độ:\", temps_even_days)\n",
    "\n",
    "print(\"\\n4. Nhiệt độ của các ngày lẻ:\")\n",
    "print(\"Nhiệt độ:\", temps_odd_days)"
   ]
  }
 ],
 "metadata": {
  "kernelspec": {
   "display_name": "Python 3",
   "language": "python",
   "name": "python3"
  },
  "language_info": {
   "codemirror_mode": {
    "name": "ipython",
    "version": 3
   },
   "file_extension": ".py",
   "mimetype": "text/x-python",
   "name": "python",
   "nbconvert_exporter": "python",
   "pygments_lexer": "ipython3",
   "version": "3.12.3"
  }
 },
 "nbformat": 4,
 "nbformat_minor": 2
}
