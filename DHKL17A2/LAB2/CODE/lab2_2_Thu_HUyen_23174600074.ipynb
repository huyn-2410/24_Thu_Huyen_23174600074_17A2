{
 "cells": [
  {
   "cell_type": "code",
   "execution_count": 11,
   "metadata": {},
   "outputs": [],
   "source": [
    "import csv \n",
    "import numpy as np"
   ]
  },
  {
   "cell_type": "code",
   "execution_count": 12,
   "metadata": {},
   "outputs": [
    {
     "name": "stderr",
     "output_type": "stream",
     "text": [
      "<>:1: SyntaxWarning: invalid escape sequence '\\P'\n",
      "<>:1: SyntaxWarning: invalid escape sequence '\\P'\n",
      "C:\\Users\\admin\\AppData\\Local\\Temp\\ipykernel_7732\\3476962155.py:1: SyntaxWarning: invalid escape sequence '\\P'\n",
      "  file_path=\"D:\\Python nâng cao\\Thu_Huyen_23174600074_17A2\\DHKL17A2\\LAB2/DATA//diem_hoc_phan.csv\"\n"
     ]
    },
    {
     "data": {
      "text/plain": [
       "[[3.04, 3.39, 6.7],\n",
       " [5.8, 6.41, 6.62],\n",
       " [2.59, 3.57, 9.16],\n",
       " [3.81, 8.78, 9.24],\n",
       " [8.91, 9.64, 6.39]]"
      ]
     },
     "execution_count": 12,
     "metadata": {},
     "output_type": "execute_result"
    }
   ],
   "source": [
    "file_path=\"D:\\Python nâng cao\\Thu_Huyen_23174600074_17A2\\DHKL17A2\\LAB2/DATA//diem_hoc_phan.csv\"\n",
    "data=[]\n",
    "with open (file_path,'r',encoding='utf-8') as csvfile:\n",
    "    reader=csv.reader(csvfile)\n",
    "    next(reader)\n",
    "    for row in reader:\n",
    "        data.append([float(score) for score in row[2:]])\n",
    "data[:5]        \n",
    "\n",
    "\n"
   ]
  },
  {
   "cell_type": "code",
   "execution_count": 13,
   "metadata": {},
   "outputs": [
    {
     "name": "stdout",
     "output_type": "stream",
     "text": [
      "Điểm trung bình: 5.71\n",
      "Điểm cao nhất: 9.86\n",
      "Điểm thấp nhất: 2.29\n",
      "Độ lệch chuẩn: 2.22\n",
      "MẢng là:\n"
     ]
    },
    {
     "data": {
      "text/plain": [
       "[[3.04, 3.39, 6.7],\n",
       " [5.8, 6.41, 6.62],\n",
       " [2.59, 3.57, 9.16],\n",
       " [3.81, 8.78, 9.24],\n",
       " [8.91, 9.64, 6.39],\n",
       " [3.23, 4.72, 6.17],\n",
       " [2.35, 3.29, 6.89],\n",
       " [2.48, 3.81, 4.84],\n",
       " [3.23, 2.61, 4.52],\n",
       " [7.02, 9.01, 9.15],\n",
       " [2.29, 4.48, 5.51],\n",
       " [3.51, 7.19, 5.13],\n",
       " [6.74, 7.78, 6.19],\n",
       " [9.86, 4.64, 3.33],\n",
       " [8.04, 5.12, 4.77],\n",
       " [2.74, 8.88, 5.8],\n",
       " [3.04, 6.88, 3.91],\n",
       " [5.87, 4.41, 8.84],\n",
       " [8.46, 2.63, 4.91],\n",
       " [3.74, 6.71, 3.44],\n",
       " [5.67, 8.05, 6.03],\n",
       " [8.12, 2.46, 3.87],\n",
       " [9.4, 5.31, 5.13],\n",
       " [3.91, 5.09, 8.82],\n",
       " [4.26, 5.78, 8.14],\n",
       " [4.41, 2.66, 5.4],\n",
       " [3.23, 8.3, 8.64],\n",
       " [9.25, 8.29, 9.1],\n",
       " [6.08, 2.67, 6.39],\n",
       " [3.85, 7.71, 5.75]]"
      ]
     },
     "execution_count": 13,
     "metadata": {},
     "output_type": "execute_result"
    }
   ],
   "source": [
    "# Chuyển đổi sang mảng NumPy\n",
    "scores_data = np.array(data)\n",
    "    # Tính toán các thống kê\n",
    "average_data = np.mean(scores_data)\n",
    "max_data = np.max(scores_data)\n",
    "min_datta = np.min(scores_data)\n",
    "std_dev = np.std(scores_data)\n",
    "\n",
    "    # Hiển thị kết quả\n",
    "print(f\"Điểm trung bình: {average_data:.2f}\")\n",
    "print(f\"Điểm cao nhất: {max_data}\")\n",
    "print(f\"Điểm thấp nhất: {min_datta}\")\n",
    "print(f\"Độ lệch chuẩn: {std_dev:.2f}\")\n",
    "print(\"MẢng là:\")\n",
    "scores_data.tolist()\n"
   ]
  },
  {
   "cell_type": "markdown",
   "metadata": {},
   "source": [
    "phần 2:"
   ]
  },
  {
   "cell_type": "code",
   "execution_count": 22,
   "metadata": {},
   "outputs": [
    {
     "ename": "ValueError",
     "evalue": "The truth value of an array with more than one element is ambiguous. Use a.any() or a.all()",
     "output_type": "error",
     "traceback": [
      "\u001b[1;31m---------------------------------------------------------------------------\u001b[0m",
      "\u001b[1;31mValueError\u001b[0m                                Traceback (most recent call last)",
      "Cell \u001b[1;32mIn[22], line 19\u001b[0m\n\u001b[0;32m     17\u001b[0m     \u001b[38;5;28;01melse\u001b[39;00m:\n\u001b[0;32m     18\u001b[0m         \u001b[38;5;28;01mreturn\u001b[39;00m \u001b[38;5;124m'\u001b[39m\u001b[38;5;124mF\u001b[39m\u001b[38;5;124m'\u001b[39m \n\u001b[1;32m---> 19\u001b[0m converted_grades\u001b[38;5;241m=\u001b[39m[\u001b[43mconvert_grade\u001b[49m\u001b[43m(\u001b[49m\u001b[43mscore\u001b[49m\u001b[43m)\u001b[49m \u001b[38;5;28;01mfor\u001b[39;00m score \u001b[38;5;129;01min\u001b[39;00m scores_data]\n\u001b[0;32m     21\u001b[0m     \u001b[38;5;66;03m# In ra kết quả điểm và điểm tín chỉ tương ứng\u001b[39;00m\n\u001b[0;32m     22\u001b[0m \u001b[38;5;28mprint\u001b[39m(\u001b[38;5;124m\"\u001b[39m\u001b[38;5;130;01m\\n\u001b[39;00m\u001b[38;5;124mKết quả qui đổi điểm số:\u001b[39m\u001b[38;5;124m\"\u001b[39m)\n",
      "Cell \u001b[1;32mIn[22], line 3\u001b[0m, in \u001b[0;36mconvert_grade\u001b[1;34m(score)\u001b[0m\n\u001b[0;32m      1\u001b[0m \u001b[38;5;28;01mdef\u001b[39;00m \u001b[38;5;21mconvert_grade\u001b[39m(score):\n\u001b[0;32m      2\u001b[0m \u001b[38;5;250m    \u001b[39m\u001b[38;5;124;03m\"\"\"Chuyển đổi điểm từ thang 10 sang điểm tín chỉ\"\"\"\u001b[39;00m\n\u001b[1;32m----> 3\u001b[0m     \u001b[38;5;28;01mif\u001b[39;00m \u001b[38;5;241m8.5\u001b[39m \u001b[38;5;241m<\u001b[39m\u001b[38;5;241m=\u001b[39m score \u001b[38;5;241m<\u001b[39m\u001b[38;5;241m=\u001b[39m \u001b[38;5;241m10\u001b[39m:\n\u001b[0;32m      4\u001b[0m         \u001b[38;5;28;01mreturn\u001b[39;00m \u001b[38;5;124m'\u001b[39m\u001b[38;5;124mA\u001b[39m\u001b[38;5;124m'\u001b[39m\n\u001b[0;32m      5\u001b[0m     \u001b[38;5;28;01melif\u001b[39;00m \u001b[38;5;241m8.0\u001b[39m \u001b[38;5;241m<\u001b[39m\u001b[38;5;241m=\u001b[39m score \u001b[38;5;241m<\u001b[39m \u001b[38;5;241m8.5\u001b[39m:\n",
      "\u001b[1;31mValueError\u001b[0m: The truth value of an array with more than one element is ambiguous. Use a.any() or a.all()"
     ]
    }
   ],
   "source": [
    "def convert_grade(score):\n",
    "    \"\"\"Chuyển đổi điểm từ thang 10 sang điểm tín chỉ\"\"\"\n",
    "    if 8.5 <= score <= 10:\n",
    "        return 'A'\n",
    "    elif 8.0 <= score < 8.5:\n",
    "        return 'B+'\n",
    "    elif 7.0 <= score < 8.0:\n",
    "        return 'B'\n",
    "    elif 6.5 <= score < 7.0:\n",
    "        return 'C+'\n",
    "    elif 5.5 <= score < 6.5:\n",
    "        return 'C'\n",
    "    elif 5.0 <= score < 5.5:\n",
    "        return 'D+'\n",
    "    elif 4.0 <= score < 5.0:\n",
    "        return 'D'\n",
    "    else:\n",
    "        return 'F' \n",
    "converted_grades=[convert_grade(score) for score in scores_data]\n",
    "\n",
    "    # In ra kết quả điểm và điểm tín chỉ tương ứng\n",
    "print(\"\\nKết quả qui đổi điểm số:\")\n",
    "for score, grade in zip(scores_data, converted_grades):\n",
    "    print(f\"Điểm: {score} -> Điểm tín chỉ: {converted_grades}\")"
   ]
  },
  {
   "cell_type": "markdown",
   "metadata": {},
   "source": [
    "phầnn 3:"
   ]
  },
  {
   "cell_type": "code",
   "execution_count": 15,
   "metadata": {},
   "outputs": [
    {
     "name": "stdout",
     "output_type": "stream",
     "text": [
      "Điểm số cho học phần HP1: [3.04 5.8  2.59 3.81 8.91 3.23 2.35 2.48 3.23 7.02 2.29 3.51 6.74 9.86\n",
      " 8.04 2.74 3.04 5.87 8.46 3.74 5.67 8.12 9.4  3.91 4.26 4.41 3.23 9.25\n",
      " 6.08 3.85]\n",
      "Điểm số cho học phần HP2: [3.39 6.41 3.57 8.78 9.64 4.72 3.29 3.81 2.61 9.01 4.48 7.19 7.78 4.64\n",
      " 5.12 8.88 6.88 4.41 2.63 6.71 8.05 2.46 5.31 5.09 5.78 2.66 8.3  8.29\n",
      " 2.67 7.71]\n",
      "Điểm số cho học phần HP3: [6.7  6.62 9.16 9.24 6.39 6.17 6.89 4.84 4.52 9.15 5.51 5.13 6.19 3.33\n",
      " 4.77 5.8  3.91 8.84 4.91 3.44 6.03 3.87 5.13 8.82 8.14 5.4  8.64 9.1\n",
      " 6.39 5.75]\n"
     ]
    }
   ],
   "source": [
    "subject_name=['HP1','HP2','HP3']\n",
    "subject_scores = {subject_name[i]: scores_data[:, i] for i in range(scores_data.shape[1])}\n",
    "\n",
    "# Hiển thị kết quả từng học phần\n",
    "for subject, scores in subject_scores.items():\n",
    "    print(f\"Điểm số cho học phần {subject}: {scores}\")"
   ]
  },
  {
   "cell_type": "markdown",
   "metadata": {},
   "source": [
    "phần 4:"
   ]
  },
  {
   "cell_type": "code",
   "execution_count": 16,
   "metadata": {},
   "outputs": [
    {
     "name": "stdout",
     "output_type": "stream",
     "text": [
      "Học phần: HP3\n",
      "Tổng điểm: 9.16\n",
      "Trung bình điểm: 9.16\n",
      "Độ lệch chuẩn: 0.0\n",
      "---\n",
      "Học phần: HP1\n",
      "Tổng điểm: 6.7\n",
      "Trung bình điểm: 6.7\n",
      "Độ lệch chuẩn: 0.0\n",
      "---\n",
      "Học phần: HP2\n",
      "Tổng điểm: 6.62\n",
      "Trung bình điểm: 6.62\n",
      "Độ lệch chuẩn: 0.0\n",
      "---\n"
     ]
    }
   ],
   "source": [
    "subject_name=['HP1','HP2','HP3']\n",
    "unique_subjects =list(set(subject_name))\n",
    "\n",
    "# Phân tích theo từng học phần\n",
    "for subject in unique_subjects:\n",
    "    subject_scores = [scores[i] for i in range(len(subject_name)) if subject_name[i] == subject]\n",
    "    total = np.sum(subject_scores)\n",
    "    mean = np.mean(subject_scores)\n",
    "    std_dev = np.std(subject_scores)\n",
    "    \n",
    "    print(f'Học phần: {subject}')\n",
    "    print(f'Tổng điểm: {total}')\n",
    "    print(f'Trung bình điểm: {mean}')\n",
    "    print(f'Độ lệch chuẩn: {std_dev}')\n",
    "    print('---')"
   ]
  }
 ],
 "metadata": {
  "kernelspec": {
   "display_name": "Python 3",
   "language": "python",
   "name": "python3"
  },
  "language_info": {
   "codemirror_mode": {
    "name": "ipython",
    "version": 3
   },
   "file_extension": ".py",
   "mimetype": "text/x-python",
   "name": "python",
   "nbconvert_exporter": "python",
   "pygments_lexer": "ipython3",
   "version": "3.12.3"
  }
 },
 "nbformat": 4,
 "nbformat_minor": 2
}
