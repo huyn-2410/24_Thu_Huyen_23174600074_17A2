{
 "cells": [
  {
   "cell_type": "code",
   "execution_count": 1,
   "metadata": {},
   "outputs": [
    {
     "name": "stdout",
     "output_type": "stream",
     "text": [
      "Thread Name: Thread-1\n",
      "Thread Name: Thread-2\n",
      "Thread Name: Thread-3\n",
      "Thread Name: Thread-4\n",
      "Thread Name: Thread-5\n"
     ]
    }
   ],
   "source": [
    "import threading\n",
    "\n",
    "def print_thread_name():\n",
    "    print(f\"Thread Name: {threading.current_thread().name}\")\n",
    "\n",
    "def main():\n",
    "    threads = []\n",
    "    num_threads = 5  \n",
    "\n",
    "    for i in range(num_threads):\n",
    "       \n",
    "        thread_name = f\"Thread-{i+1}\"\n",
    "        thread = threading.Thread(target=print_thread_name, name=thread_name)\n",
    "        threads.append(thread)\n",
    "\n",
    "    for thread in threads:\n",
    "        thread.start()\n",
    "\n",
    "    for thread in threads:\n",
    "        thread.join()\n",
    "\n",
    "if __name__ == \"__main__\":\n",
    "    main()\n"
   ]
  }
 ],
 "metadata": {
  "kernelspec": {
   "display_name": "Python 3",
   "language": "python",
   "name": "python3"
  },
  "language_info": {
   "codemirror_mode": {
    "name": "ipython",
    "version": 3
   },
   "file_extension": ".py",
   "mimetype": "text/x-python",
   "name": "python",
   "nbconvert_exporter": "python",
   "pygments_lexer": "ipython3",
   "version": "3.12.3"
  }
 },
 "nbformat": 4,
 "nbformat_minor": 2
}
