{
 "cells": [
  {
   "cell_type": "code",
   "execution_count": 2,
   "metadata": {},
   "outputs": [
    {
     "name": "stdout",
     "output_type": "stream",
     "text": [
      "tổng 1 phần của [7, 8, 6, 7, 5]: 33\n",
      "tổng 1 phần của [9, 3, 6, 8, 5]: 31\n",
      "tổng 1 phần của [6, 7, 7, 8, 7]: 35\n",
      "tổng 1 phần của [9, 9, 4, 5, 7]: 34\n",
      "tổng số tiền: 133\n"
     ]
    }
   ],
   "source": [
    "import threading\n",
    "\n",
    "# Hàm tính tổng của một phần danh sách\n",
    "def calculate_sum(sublist, result, index):\n",
    "    result[index] = sum(sublist)\n",
    "    print(f\"tổng 1 phần của {sublist}: {result[index]}\")\n",
    "\n",
    "def main():\n",
    "    # Danh sách đầu vào\n",
    "    data = [7, 8, 6, 7, 5, 9, 3, 6, 8, 5, 6, 7, 7, 8, 7, 9, 9, 4, 5, 7]\n",
    "    num_threads = 4  # Số luồng cần tạo\n",
    "\n",
    "    # Chia danh sách thành các phần nhỏ\n",
    "    chunk_size = len(data) // num_threads\n",
    "    sublists = [data[i * chunk_size:(i + 1) * chunk_size] for i in range(num_threads)]\n",
    "    if len(data) % num_threads != 0:\n",
    "        sublists[-1].extend(data[num_threads * chunk_size:])\n",
    "\n",
    "    # Biến lưu kết quả từng phần\n",
    "    result = [0] * num_threads\n",
    "    threads = []\n",
    "\n",
    "    # Tạo và khởi chạy các luồng\n",
    "    for i in range(num_threads):\n",
    "        thread = threading.Thread(target=calculate_sum, args=(sublists[i], result, i))\n",
    "        threads.append(thread)\n",
    "        thread.start()\n",
    "\n",
    "    # Chờ tất cả các luồng hoàn thành\n",
    "    for thread in threads:\n",
    "        thread.join()\n",
    "\n",
    "    # Tính tổng cuối cùng\n",
    "    total_sum = sum(result)\n",
    "    print(f\"tổng số tiền: {total_sum}\")\n",
    "\n",
    "if __name__ == \"__main__\":\n",
    "    main()\n"
   ]
  }
 ],
 "metadata": {
  "kernelspec": {
   "display_name": "Python 3",
   "language": "python",
   "name": "python3"
  },
  "language_info": {
   "codemirror_mode": {
    "name": "ipython",
    "version": 3
   },
   "file_extension": ".py",
   "mimetype": "text/x-python",
   "name": "python",
   "nbconvert_exporter": "python",
   "pygments_lexer": "ipython3",
   "version": "3.12.3"
  }
 },
 "nbformat": 4,
 "nbformat_minor": 2
}
