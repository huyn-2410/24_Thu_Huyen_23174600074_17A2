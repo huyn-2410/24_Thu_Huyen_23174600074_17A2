{
 "cells": [
  {
   "cell_type": "code",
   "execution_count": 2,
   "metadata": {},
   "outputs": [
    {
     "name": "stdout",
     "output_type": "stream",
     "text": [
      "Even: 2\n",
      "Even: 4\n",
      "Even: 6\n",
      "Even: 8\n",
      "Even: 10\n",
      "Even: 12\n",
      "Even: 14\n",
      "Even: 16\n",
      "Even: 18\n",
      "Even: 20\n",
      "Odd: 1\n",
      "Odd: 3\n",
      "Odd: 5\n",
      "Odd: 7\n",
      "Odd: 9\n",
      "Odd: 11\n",
      "Odd: 13\n",
      "Odd: 15\n",
      "Odd: 17\n",
      "Odd: 19\n"
     ]
    }
   ],
   "source": [
    "import threading\n",
    "\n",
    "def print_even_numbers(max_num):\n",
    "    for num in range(2, max_num + 1, 2):\n",
    "        print(f\"Even: {num}\")\n",
    "\n",
    "def print_odd_numbers(max_num):\n",
    "    for num in range(1, max_num + 1, 2):\n",
    "        print(f\"Odd: {num}\")\n",
    "\n",
    "def main():\n",
    "    max_num = 20  # Ngưỡng tối đa\n",
    "\n",
    "    even_thread = threading.Thread(target=print_even_numbers, args=(max_num,))\n",
    "    odd_thread = threading.Thread(target=print_odd_numbers, args=(max_num,))\n",
    "\n",
    "    even_thread.start()\n",
    "    odd_thread.start()\n",
    "\n",
    "    even_thread.join()\n",
    "    odd_thread.join()\n",
    "\n",
    "\n",
    "if __name__ == \"__main__\":\n",
    "    main()\n"
   ]
  }
 ],
 "metadata": {
  "kernelspec": {
   "display_name": "Python 3",
   "language": "python",
   "name": "python3"
  },
  "language_info": {
   "codemirror_mode": {
    "name": "ipython",
    "version": 3
   },
   "file_extension": ".py",
   "mimetype": "text/x-python",
   "name": "python",
   "nbconvert_exporter": "python",
   "pygments_lexer": "ipython3",
   "version": "3.12.3"
  }
 },
 "nbformat": 4,
 "nbformat_minor": 2
}
