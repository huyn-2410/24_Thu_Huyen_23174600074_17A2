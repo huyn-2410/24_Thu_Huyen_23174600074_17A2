{
 "cells": [
  {
   "cell_type": "code",
   "execution_count": 3,
   "metadata": {},
   "outputs": [
    {
     "name": "stdout",
     "output_type": "stream",
     "text": [
      "\n",
      "số chẵn từ 30 đến 50:\n",
      "30\n",
      "32\n",
      "34\n",
      "36\n",
      "38\n",
      "40\n",
      "42\n",
      "44\n",
      "46\n",
      "48\n",
      "50\n",
      "số lẻ từ 30 đến 50:\n",
      "31\n",
      "33\n",
      "35\n",
      "37\n",
      "39\n",
      "41\n",
      "43\n",
      "45\n",
      "47\n",
      "49\n"
     ]
    }
   ],
   "source": [
    "import threading\n",
    "\n",
    "def print_even_numbers():\n",
    "    print(\"\\nsố chẵn từ 30 đến 50:\")\n",
    "    for num in range(30, 51):\n",
    "        if num % 2 == 0:\n",
    "            print(num)\n",
    "\n",
    "def print_odd_numbers():\n",
    "    print(\"số lẻ từ 30 đến 50:\")\n",
    "    for num in range(30, 51):\n",
    "        if num % 2 != 0:\n",
    "            print(num)\n",
    "\n",
    "def main():\n",
    "    even_thread = threading.Thread(target=print_even_numbers)\n",
    "    odd_thread = threading.Thread(target=print_odd_numbers)\n",
    "\n",
    "    even_thread.start()\n",
    "    odd_thread.start()\n",
    "\n",
    "    even_thread.join()\n",
    "    odd_thread.join()\n",
    "\n",
    "\n",
    "if __name__ == \"__main__\":\n",
    "    main()\n"
   ]
  }
 ],
 "metadata": {
  "kernelspec": {
   "display_name": "Python 3",
   "language": "python",
   "name": "python3"
  },
  "language_info": {
   "codemirror_mode": {
    "name": "ipython",
    "version": 3
   },
   "file_extension": ".py",
   "mimetype": "text/x-python",
   "name": "python",
   "nbconvert_exporter": "python",
   "pygments_lexer": "ipython3",
   "version": "3.12.3"
  }
 },
 "nbformat": 4,
 "nbformat_minor": 2
}
