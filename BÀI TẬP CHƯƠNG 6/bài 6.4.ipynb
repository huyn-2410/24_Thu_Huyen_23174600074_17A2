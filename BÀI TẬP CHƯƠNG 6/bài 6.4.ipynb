{
 "cells": [
  {
   "cell_type": "code",
   "execution_count": 1,
   "metadata": {},
   "outputs": [
    {
     "name": "stdout",
     "output_type": "stream",
     "text": [
      "giai thừa 10 là: 3628800\n"
     ]
    }
   ],
   "source": [
    "import threading\n",
    "\n",
    "def calculate_factorial_part(start, end, result, index):\n",
    "    partial_result = 1\n",
    "    for i in range(start, end + 1):\n",
    "        partial_result *= i\n",
    "    result[index] = partial_result\n",
    "\n",
    "def factorial(number, num_threads):\n",
    "    threads = []\n",
    "    result = [1] * num_threads\n",
    "    chunk_size = number // num_threads\n",
    "\n",
    "    for i in range(num_threads):\n",
    "        start = i * chunk_size + 1\n",
    "        end = (i + 1) * chunk_size if i != num_threads - 1 else number\n",
    "        thread = threading.Thread(target=calculate_factorial_part, args=(start, end, result, i))\n",
    "        threads.append(thread)\n",
    "\n",
    "    for thread in threads:\n",
    "        thread.start()\n",
    "\n",
    "    for thread in threads:\n",
    "        thread.join()\n",
    "\n",
    "    final_result = 1\n",
    "    for partial_result in result:\n",
    "        final_result *= partial_result\n",
    "\n",
    "    return final_result\n",
    "\n",
    "def main():\n",
    "    number = 10  # Số cần tính giai thừa\n",
    "    num_threads = 4  # Số luồng muốn sử dụng\n",
    "    print(f\"giai thừa {number} là: {factorial(number, num_threads)}\")\n",
    "\n",
    "if __name__ == \"__main__\":\n",
    "    main()\n"
   ]
  }
 ],
 "metadata": {
  "kernelspec": {
   "display_name": "Python 3",
   "language": "python",
   "name": "python3"
  },
  "language_info": {
   "codemirror_mode": {
    "name": "ipython",
    "version": 3
   },
   "file_extension": ".py",
   "mimetype": "text/x-python",
   "name": "python",
   "nbconvert_exporter": "python",
   "pygments_lexer": "ipython3",
   "version": "3.12.3"
  }
 },
 "nbformat": 4,
 "nbformat_minor": 2
}
