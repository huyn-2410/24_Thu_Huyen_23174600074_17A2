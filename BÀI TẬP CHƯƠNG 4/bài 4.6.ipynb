{
 "cells": [
  {
   "cell_type": "code",
   "execution_count": 4,
   "metadata": {},
   "outputs": [],
   "source": [
    "import numpy as np\n",
    "import pandas as pd"
   ]
  },
  {
   "cell_type": "code",
   "execution_count": 6,
   "metadata": {},
   "outputs": [
    {
     "data": {
      "text/plain": [
       "0     h\n",
       "1     h\n",
       "2     h\n",
       "3     g\n",
       "4     c\n",
       "5     e\n",
       "6     d\n",
       "7     e\n",
       "8     c\n",
       "9     f\n",
       "10    b\n",
       "11    d\n",
       "12    g\n",
       "13    c\n",
       "14    h\n",
       "15    d\n",
       "16    c\n",
       "17    d\n",
       "18    b\n",
       "19    a\n",
       "20    b\n",
       "21    c\n",
       "22    b\n",
       "23    f\n",
       "24    c\n",
       "25    d\n",
       "26    f\n",
       "27    g\n",
       "28    d\n",
       "29    g\n",
       "dtype: object"
      ]
     },
     "execution_count": 6,
     "metadata": {},
     "output_type": "execute_result"
    }
   ],
   "source": [
    "ser=pd.Series(np.take(list('abcdefgh'),np.random.randint(8,size=30)))\n",
    "ser"
   ]
  },
  {
   "cell_type": "markdown",
   "metadata": {},
   "source": [
    "phần 1:\n",
    "-pd.Series(data,index): tạo 1 chuỗi dữ liệu (series) trong pandas\n",
    "-np.random.randint(8,size=30):tạo ra các số nguyên ngẫu nhiên từ 0 đến 7(giá trị lớn nhất là 8 không được bao gồm),có 30 số nguyên ngẫu nhiên\n",
    "-np.take():lấy cá phần tử từ danh sách ['a','b',...,'h'] dụa trên chỉ số ngẫu nhiên được tạo từ np.random.randint(8,size=30)"
   ]
  },
  {
   "cell_type": "markdown",
   "metadata": {},
   "source": [
    "phần 2:"
   ]
  },
  {
   "cell_type": "code",
   "execution_count": 7,
   "metadata": {},
   "outputs": [
    {
     "data": {
      "text/plain": [
       "c    6\n",
       "d    6\n",
       "g    4\n",
       "h    4\n",
       "b    4\n",
       "f    3\n",
       "e    2\n",
       "a    1\n",
       "Name: count, dtype: int64"
      ]
     },
     "execution_count": 7,
     "metadata": {},
     "output_type": "execute_result"
    }
   ],
   "source": [
    "counts=ser.value_counts()\n",
    "counts"
   ]
  }
 ],
 "metadata": {
  "kernelspec": {
   "display_name": "Python 3",
   "language": "python",
   "name": "python3"
  },
  "language_info": {
   "codemirror_mode": {
    "name": "ipython",
    "version": 3
   },
   "file_extension": ".py",
   "mimetype": "text/x-python",
   "name": "python",
   "nbconvert_exporter": "python",
   "pygments_lexer": "ipython3",
   "version": "3.12.3"
  }
 },
 "nbformat": 4,
 "nbformat_minor": 2
}
