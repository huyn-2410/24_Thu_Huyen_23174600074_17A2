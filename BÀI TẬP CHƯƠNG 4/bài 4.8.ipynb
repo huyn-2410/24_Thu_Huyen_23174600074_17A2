{
 "cells": [
  {
   "cell_type": "code",
   "execution_count": 2,
   "metadata": {},
   "outputs": [],
   "source": [
    "import numpy as np\n",
    "import pandas as pd"
   ]
  },
  {
   "cell_type": "code",
   "execution_count": 3,
   "metadata": {},
   "outputs": [
    {
     "data": {
      "text/plain": [
       "0     0.814454\n",
       "1     0.086056\n",
       "2     0.139832\n",
       "3     0.972071\n",
       "4     0.723057\n",
       "5     0.778950\n",
       "6     0.492433\n",
       "7     0.693762\n",
       "8     0.398800\n",
       "9     0.734594\n",
       "10    0.081740\n",
       "11    0.518904\n",
       "12    0.998468\n",
       "13    0.275996\n",
       "14    0.250545\n",
       "15    0.091137\n",
       "16    0.272711\n",
       "17    0.093486\n",
       "18    0.120952\n",
       "19    0.348557\n",
       "dtype: float64"
      ]
     },
     "execution_count": 3,
     "metadata": {},
     "output_type": "execute_result"
    }
   ],
   "source": [
    "ser=pd.Series(np.random.random(20))\n",
    "ser"
   ]
  },
  {
   "cell_type": "code",
   "execution_count": 5,
   "metadata": {},
   "outputs": [
    {
     "name": "stdout",
     "output_type": "stream",
     "text": [
      "Chuỗi dữ liệu sau khi gán phân vị: 0      Thập phân vị:9\n",
      "1      Thập phân vị:1\n",
      "2      Thập phân vị:3\n",
      "3     Thập phân vị:10\n",
      "4      Thập phân vị:8\n",
      "5      Thập phân vị:9\n",
      "6      Thập phân vị:6\n",
      "7      Thập phân vị:7\n",
      "8      Thập phân vị:6\n",
      "9      Thập phân vị:8\n",
      "10     Thập phân vị:1\n",
      "11     Thập phân vị:7\n",
      "12    Thập phân vị:10\n",
      "13     Thập phân vị:5\n",
      "14     Thập phân vị:4\n",
      "15     Thập phân vị:2\n",
      "16     Thập phân vị:4\n",
      "17     Thập phân vị:2\n",
      "18     Thập phân vị:3\n",
      "19     Thập phân vị:5\n",
      "dtype: category\n",
      "Categories (10, object): ['Thập phân vị:1' < 'Thập phân vị:2' < 'Thập phân vị:3' < 'Thập phân vị:4' ... 'Thập phân vị:7' < 'Thập phân vị:8' < 'Thập phân vị:9' < 'Thập phân vị:10']\n"
     ]
    }
   ],
   "source": [
    "labels=[f\"Thập phân vị:{i+1}\" for i in range (10)]\n",
    "ser_deciles=pd.qcut(ser,q=10,labels=labels)    \n",
    "print(\"Chuỗi dữ liệu sau khi gán phân vị:\",ser_deciles)"
   ]
  }
 ],
 "metadata": {
  "kernelspec": {
   "display_name": "Python 3",
   "language": "python",
   "name": "python3"
  },
  "language_info": {
   "codemirror_mode": {
    "name": "ipython",
    "version": 3
   },
   "file_extension": ".py",
   "mimetype": "text/x-python",
   "name": "python",
   "nbconvert_exporter": "python",
   "pygments_lexer": "ipython3",
   "version": "3.12.3"
  }
 },
 "nbformat": 4,
 "nbformat_minor": 2
}
