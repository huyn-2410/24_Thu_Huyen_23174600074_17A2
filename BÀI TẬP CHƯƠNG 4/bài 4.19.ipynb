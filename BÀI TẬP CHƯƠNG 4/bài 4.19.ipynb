{
 "cells": [
  {
   "cell_type": "code",
   "execution_count": 3,
   "metadata": {},
   "outputs": [],
   "source": [
    "import pandas as pd\n",
    "import numpy as np"
   ]
  },
  {
   "cell_type": "code",
   "execution_count": 4,
   "metadata": {},
   "outputs": [
    {
     "name": "stdout",
     "output_type": "stream",
     "text": [
      "[1.0, 2.0, 3.0, 4.0, 5.0, 6.0, 7.0, 8.0, 9.0, 10.0]\n",
      "['banana', 'apple', 'banana', 'apple', 'carrot', 'banana', 'apple', 'apple', 'carrot', 'banana']\n"
     ]
    }
   ],
   "source": [
    "fruit=pd.Series(np.random.choice(['apple','banana','carrot'],10))\n",
    "weights=pd.Series(np.linspace(1,10,10))\n",
    "print(weights.tolist())\n",
    "print(fruit.tolist())"
   ]
  },
  {
   "cell_type": "code",
   "execution_count": 5,
   "metadata": {},
   "outputs": [
    {
     "name": "stdout",
     "output_type": "stream",
     "text": [
      "Khôid lượng trung bình của từng loại quả là:\n",
      "apple     5.25\n",
      "banana    5.00\n",
      "carrot    7.00\n",
      "dtype: float64\n"
     ]
    }
   ],
   "source": [
    "average_weights=weights.groupby(fruit).mean()\n",
    "print(\"Khôid lượng trung bình của từng loại quả là:\")\n",
    "print(average_weights)"
   ]
  }
 ],
 "metadata": {
  "kernelspec": {
   "display_name": "Python 3",
   "language": "python",
   "name": "python3"
  },
  "language_info": {
   "codemirror_mode": {
    "name": "ipython",
    "version": 3
   },
   "file_extension": ".py",
   "mimetype": "text/x-python",
   "name": "python",
   "nbconvert_exporter": "python",
   "pygments_lexer": "ipython3",
   "version": "3.12.3"
  }
 },
 "nbformat": 4,
 "nbformat_minor": 2
}
