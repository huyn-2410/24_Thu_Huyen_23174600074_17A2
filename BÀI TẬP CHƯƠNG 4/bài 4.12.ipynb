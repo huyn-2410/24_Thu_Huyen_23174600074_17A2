{
 "cells": [
  {
   "cell_type": "code",
   "execution_count": 1,
   "metadata": {},
   "outputs": [],
   "source": [
    "import numpy as np\n",
    "import pandas as pd"
   ]
  },
  {
   "cell_type": "code",
   "execution_count": 2,
   "metadata": {},
   "outputs": [],
   "source": [
    "ser1=pd.Series(range(5))\n",
    "ser2=pd.Series(list('abcde'))"
   ]
  },
  {
   "cell_type": "code",
   "execution_count": 3,
   "metadata": {},
   "outputs": [
    {
     "name": "stdout",
     "output_type": "stream",
     "text": [
      "Xếp chồng theo chiều dọc:\n",
      "0    0\n",
      "1    1\n",
      "2    2\n",
      "3    3\n",
      "4    4\n",
      "0    a\n",
      "1    b\n",
      "2    c\n",
      "3    d\n",
      "4    e\n",
      "dtype: object\n",
      "Xếp chồng theo chiều ngang:\n",
      "   ser1 ser2\n",
      "0     0    a\n",
      "1     1    b\n",
      "2     2    c\n",
      "3     3    d\n",
      "4     4    e\n"
     ]
    }
   ],
   "source": [
    "chieu_doc=pd.concat([ser1,ser2],axis=0)\n",
    "chieu_ngang=pd.concat([ser1,ser2],axis=1)\n",
    "chieu_ngang.columns=['ser1','ser2']\n",
    "print(\"Xếp chồng theo chiều dọc:\")\n",
    "print(chieu_doc)\n",
    "print(\"Xếp chồng theo chiều ngang:\")\n",
    "print(chieu_ngang)"
   ]
  }
 ],
 "metadata": {
  "kernelspec": {
   "display_name": "Python 3",
   "language": "python",
   "name": "python3"
  },
  "language_info": {
   "codemirror_mode": {
    "name": "ipython",
    "version": 3
   },
   "file_extension": ".py",
   "mimetype": "text/x-python",
   "name": "python",
   "nbconvert_exporter": "python",
   "pygments_lexer": "ipython3",
   "version": "3.12.3"
  }
 },
 "nbformat": 4,
 "nbformat_minor": 2
}
