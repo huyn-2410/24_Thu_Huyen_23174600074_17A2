{
 "cells": [
  {
   "cell_type": "code",
   "execution_count": 1,
   "metadata": {},
   "outputs": [],
   "source": [
    "import numpy as np\n",
    "import pandas as pd"
   ]
  },
  {
   "cell_type": "code",
   "execution_count": 2,
   "metadata": {},
   "outputs": [
    {
     "name": "stdout",
     "output_type": "stream",
     "text": [
      "Vị trí của các mục trong ser2 xuẩ hiện trong ser1:\n",
      "[5, 4]\n"
     ]
    }
   ],
   "source": [
    "ser1=pd.Series([10,9,6,5,3,1,12,8,13])\n",
    "ser2=pd.Series([1,3,10,13])\n",
    "positions = [ser1[ser1 == value].index.tolist()[0] for value in ser2 if value in ser1]\n",
    "print(\"Vị trí của các mục trong ser2 xuẩ hiện trong ser1:\")\n",
    "print(positions)"
   ]
  }
 ],
 "metadata": {
  "kernelspec": {
   "display_name": "Python 3",
   "language": "python",
   "name": "python3"
  },
  "language_info": {
   "codemirror_mode": {
    "name": "ipython",
    "version": 3
   },
   "file_extension": ".py",
   "mimetype": "text/x-python",
   "name": "python",
   "nbconvert_exporter": "python",
   "pygments_lexer": "ipython3",
   "version": "3.12.3"
  }
 },
 "nbformat": 4,
 "nbformat_minor": 2
}
