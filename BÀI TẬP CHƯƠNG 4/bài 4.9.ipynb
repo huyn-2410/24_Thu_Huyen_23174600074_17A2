{
 "cells": [
  {
   "cell_type": "code",
   "execution_count": 6,
   "metadata": {},
   "outputs": [],
   "source": [
    "import numpy as np\n",
    "import pandas as pd"
   ]
  },
  {
   "cell_type": "code",
   "execution_count": 7,
   "metadata": {},
   "outputs": [
    {
     "data": {
      "text/plain": [
       "0     1\n",
       "1     9\n",
       "2     4\n",
       "3     7\n",
       "4     8\n",
       "5     2\n",
       "6     6\n",
       "7     6\n",
       "8     9\n",
       "9     8\n",
       "10    3\n",
       "11    3\n",
       "12    1\n",
       "13    6\n",
       "14    6\n",
       "15    4\n",
       "16    2\n",
       "17    8\n",
       "18    3\n",
       "19    3\n",
       "20    5\n",
       "21    7\n",
       "22    7\n",
       "23    6\n",
       "24    2\n",
       "25    9\n",
       "26    2\n",
       "27    8\n",
       "28    2\n",
       "29    2\n",
       "30    8\n",
       "31    1\n",
       "32    9\n",
       "33    1\n",
       "34    6\n",
       "dtype: int32"
      ]
     },
     "execution_count": 7,
     "metadata": {},
     "output_type": "execute_result"
    }
   ],
   "source": [
    "ser=pd.Series(np.random.randint(1,10,35))\n",
    "ser"
   ]
  },
  {
   "cell_type": "markdown",
   "metadata": {},
   "source": [
    "phần 1:"
   ]
  },
  {
   "cell_type": "markdown",
   "metadata": {},
   "source": [
    "-np.random.randint(1,10,7): là 1 hàm của numpy dùng để tạo ra 1 mảng các số nguyên ngẫu nhiên\n",
    "+1:giá trị bắt đầu của khoảng \n",
    "+10: giá trị kết thúc của khoảng \n",
    "+7: số lượng số nguyên ngẫu nhiên cần tạo\n",
    "+kết quả sẽ là 1 mảng gồm 7 số nguyên ngẫu nhiên tr khoảng từ 1 đến 9\n",
    "-pd.Series(): là 1 hàm của pandas để tạo ra chuỗi dữ liệu\n"
   ]
  },
  {
   "cell_type": "markdown",
   "metadata": {},
   "source": [
    "phần 2:"
   ]
  },
  {
   "cell_type": "code",
   "execution_count": 9,
   "metadata": {},
   "outputs": [
    {
     "data": {
      "text/html": [
       "<div>\n",
       "<style scoped>\n",
       "    .dataframe tbody tr th:only-of-type {\n",
       "        vertical-align: middle;\n",
       "    }\n",
       "\n",
       "    .dataframe tbody tr th {\n",
       "        vertical-align: top;\n",
       "    }\n",
       "\n",
       "    .dataframe thead th {\n",
       "        text-align: right;\n",
       "    }\n",
       "</style>\n",
       "<table border=\"1\" class=\"dataframe\">\n",
       "  <thead>\n",
       "    <tr style=\"text-align: right;\">\n",
       "      <th></th>\n",
       "      <th>Giá trị 1</th>\n",
       "      <th>Giá trị 2</th>\n",
       "      <th>Giá trị 3</th>\n",
       "      <th>Giá trị 4</th>\n",
       "      <th>Giá trị 5</th>\n",
       "    </tr>\n",
       "  </thead>\n",
       "  <tbody>\n",
       "    <tr>\n",
       "      <th>0</th>\n",
       "      <td>1</td>\n",
       "      <td>9</td>\n",
       "      <td>4</td>\n",
       "      <td>7</td>\n",
       "      <td>8</td>\n",
       "    </tr>\n",
       "    <tr>\n",
       "      <th>1</th>\n",
       "      <td>2</td>\n",
       "      <td>6</td>\n",
       "      <td>6</td>\n",
       "      <td>9</td>\n",
       "      <td>8</td>\n",
       "    </tr>\n",
       "    <tr>\n",
       "      <th>2</th>\n",
       "      <td>3</td>\n",
       "      <td>3</td>\n",
       "      <td>1</td>\n",
       "      <td>6</td>\n",
       "      <td>6</td>\n",
       "    </tr>\n",
       "    <tr>\n",
       "      <th>3</th>\n",
       "      <td>4</td>\n",
       "      <td>2</td>\n",
       "      <td>8</td>\n",
       "      <td>3</td>\n",
       "      <td>3</td>\n",
       "    </tr>\n",
       "    <tr>\n",
       "      <th>4</th>\n",
       "      <td>5</td>\n",
       "      <td>7</td>\n",
       "      <td>7</td>\n",
       "      <td>6</td>\n",
       "      <td>2</td>\n",
       "    </tr>\n",
       "    <tr>\n",
       "      <th>5</th>\n",
       "      <td>9</td>\n",
       "      <td>2</td>\n",
       "      <td>8</td>\n",
       "      <td>2</td>\n",
       "      <td>2</td>\n",
       "    </tr>\n",
       "    <tr>\n",
       "      <th>6</th>\n",
       "      <td>8</td>\n",
       "      <td>1</td>\n",
       "      <td>9</td>\n",
       "      <td>1</td>\n",
       "      <td>6</td>\n",
       "    </tr>\n",
       "  </tbody>\n",
       "</table>\n",
       "</div>"
      ],
      "text/plain": [
       "   Giá trị 1  Giá trị 2  Giá trị 3  Giá trị 4  Giá trị 5\n",
       "0          1          9          4          7          8\n",
       "1          2          6          6          9          8\n",
       "2          3          3          1          6          6\n",
       "3          4          2          8          3          3\n",
       "4          5          7          7          6          2\n",
       "5          9          2          8          2          2\n",
       "6          8          1          9          1          6"
      ]
     },
     "execution_count": 9,
     "metadata": {},
     "output_type": "execute_result"
    }
   ],
   "source": [
    "df=ser.values.reshape(7,5)\n",
    "df=pd.DataFrame(df,columns=[f\"Giá trị {i+1}\" for i in range(5)])\n",
    "df"
   ]
  }
 ],
 "metadata": {
  "kernelspec": {
   "display_name": "Python 3",
   "language": "python",
   "name": "python3"
  },
  "language_info": {
   "codemirror_mode": {
    "name": "ipython",
    "version": 3
   },
   "file_extension": ".py",
   "mimetype": "text/x-python",
   "name": "python",
   "nbconvert_exporter": "python",
   "pygments_lexer": "ipython3",
   "version": "3.12.3"
  }
 },
 "nbformat": 4,
 "nbformat_minor": 2
}
