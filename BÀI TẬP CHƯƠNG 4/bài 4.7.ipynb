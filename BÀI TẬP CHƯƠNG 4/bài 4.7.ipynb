{
 "cells": [
  {
   "cell_type": "code",
   "execution_count": 1,
   "metadata": {},
   "outputs": [],
   "source": [
    "import numpy as np\n",
    "import pandas as pd"
   ]
  },
  {
   "cell_type": "code",
   "execution_count": 2,
   "metadata": {},
   "outputs": [
    {
     "data": {
      "text/plain": [
       "0     2\n",
       "1     3\n",
       "2     1\n",
       "3     1\n",
       "4     4\n",
       "5     3\n",
       "6     1\n",
       "7     1\n",
       "8     3\n",
       "9     3\n",
       "10    3\n",
       "11    3\n",
       "dtype: int32"
      ]
     },
     "execution_count": 2,
     "metadata": {},
     "output_type": "execute_result"
    }
   ],
   "source": [
    "np.random.RandomState(100)\n",
    "ser=pd.Series(np.random.randint(1,5,[12]))\n",
    "ser"
   ]
  },
  {
   "cell_type": "code",
   "execution_count": 3,
   "metadata": {},
   "outputs": [
    {
     "data": {
      "text/plain": [
       "0     over\n",
       "1        3\n",
       "2        1\n",
       "3        1\n",
       "4     over\n",
       "5        3\n",
       "6        1\n",
       "7        1\n",
       "8        3\n",
       "9        3\n",
       "10       3\n",
       "11       3\n",
       "dtype: object"
      ]
     },
     "execution_count": 3,
     "metadata": {},
     "output_type": "execute_result"
    }
   ],
   "source": [
    "counts=ser.value_counts()\n",
    "top_two=counts.index[:2]\n",
    "kq=ser.where(ser.isin(top_two),other='over')\n",
    "kq"
   ]
  }
 ],
 "metadata": {
  "kernelspec": {
   "display_name": "Python 3",
   "language": "python",
   "name": "python3"
  },
  "language_info": {
   "codemirror_mode": {
    "name": "ipython",
    "version": 3
   },
   "file_extension": ".py",
   "mimetype": "text/x-python",
   "name": "python",
   "nbconvert_exporter": "python",
   "pygments_lexer": "ipython3",
   "version": "3.12.3"
  }
 },
 "nbformat": 4,
 "nbformat_minor": 2
}
