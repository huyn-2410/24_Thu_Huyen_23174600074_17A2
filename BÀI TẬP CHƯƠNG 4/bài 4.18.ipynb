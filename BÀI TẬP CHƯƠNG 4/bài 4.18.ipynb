{
 "cells": [
  {
   "cell_type": "code",
   "execution_count": 2,
   "metadata": {},
   "outputs": [],
   "source": [
    "import pandas as pd\n",
    "import re"
   ]
  },
  {
   "cell_type": "code",
   "execution_count": 3,
   "metadata": {},
   "outputs": [
    {
     "name": "stdout",
     "output_type": "stream",
     "text": [
      "Danh sách email hợp lệ là:\n",
      "1    rameses@eqypt.com\n",
      "2            matt@t.eo\n",
      "3     narenda@modi.com\n",
      "dtype: object\n"
     ]
    },
    {
     "name": "stderr",
     "output_type": "stream",
     "text": [
      "<>:5: SyntaxWarning: invalid escape sequence '\\.'\n",
      "<>:5: SyntaxWarning: invalid escape sequence '\\.'\n",
      "C:\\Users\\admin\\AppData\\Local\\Temp\\ipykernel_11960\\4192734044.py:5: SyntaxWarning: invalid escape sequence '\\.'\n",
      "  pattern='^[a-zA-Z0-9._%+-]+@[a-zA-Z0-9.-]+\\.[a-zA-Z]{2,6}$'\n"
     ]
    }
   ],
   "source": [
    "emails=pd.Series(['buying books at amazon.com',\n",
    "                  'rameses@eqypt.com',\n",
    "                  'matt@t.eo',\n",
    "                  'narenda@modi.com'])\n",
    "pattern='^[a-zA-Z0-9._%+-]+@[a-zA-Z0-9.-]+\\.[a-zA-Z]{2,6}$'\n",
    "emails_1=emails[emails.str.match(pattern,na=False)]\n",
    "print(\"Danh sách email hợp lệ là:\")\n",
    "print(emails_1)\n"
   ]
  }
 ],
 "metadata": {
  "kernelspec": {
   "display_name": "Python 3",
   "language": "python",
   "name": "python3"
  },
  "language_info": {
   "codemirror_mode": {
    "name": "ipython",
    "version": 3
   },
   "file_extension": ".py",
   "mimetype": "text/x-python",
   "name": "python",
   "nbconvert_exporter": "python",
   "pygments_lexer": "ipython3",
   "version": "3.12.3"
  }
 },
 "nbformat": 4,
 "nbformat_minor": 2
}
