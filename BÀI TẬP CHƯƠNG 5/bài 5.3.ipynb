{
 "cells": [
  {
   "cell_type": "code",
   "execution_count": 1,
   "metadata": {},
   "outputs": [],
   "source": [
    "import sqlite3"
   ]
  },
  {
   "cell_type": "code",
   "execution_count": 2,
   "metadata": {},
   "outputs": [
    {
     "name": "stdout",
     "output_type": "stream",
     "text": [
      "Database and table 'users' have been created successfully.\n"
     ]
    }
   ],
   "source": [
    "def create_database_and_table():\n",
    "    # Kết nối hoặc tạo cơ sở dữ liệu SQLite\n",
    "    conn = sqlite3.connect('example.db')\n",
    "    cursor = conn.cursor()\n",
    "\n",
    "    # Tạo bảng mới trong cơ sở dữ liệu\n",
    "    cursor.execute('''\n",
    "    CREATE TABLE IF NOT EXISTS users (\n",
    "        id INTEGER PRIMARY KEY,\n",
    "        name TEXT NOT NULL,\n",
    "        age INTEGER NOT NULL\n",
    "    )\n",
    "    ''')\n",
    "\n",
    "    print(\"Database and table 'users' have been created successfully.\")\n",
    "\n",
    "    # Đóng kết nối\n",
    "    conn.commit()\n",
    "    conn.close()\n",
    "\n",
    "# Gọi hàm để tạo cơ sở dữ liệu và bảng\n",
    "create_database_and_table()"
   ]
  }
 ],
 "metadata": {
  "kernelspec": {
   "display_name": "Python 3",
   "language": "python",
   "name": "python3"
  },
  "language_info": {
   "codemirror_mode": {
    "name": "ipython",
    "version": 3
   },
   "file_extension": ".py",
   "mimetype": "text/x-python",
   "name": "python",
   "nbconvert_exporter": "python",
   "pygments_lexer": "ipython3",
   "version": "3.12.3"
  }
 },
 "nbformat": 4,
 "nbformat_minor": 2
}
