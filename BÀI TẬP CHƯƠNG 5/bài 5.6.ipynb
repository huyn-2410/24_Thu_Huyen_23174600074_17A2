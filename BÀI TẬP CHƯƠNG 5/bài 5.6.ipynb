{
 "cells": [
  {
   "cell_type": "code",
   "execution_count": 1,
   "metadata": {},
   "outputs": [],
   "source": [
    "import sqlite3"
   ]
  },
  {
   "cell_type": "code",
   "execution_count": 2,
   "metadata": {},
   "outputs": [
    {
     "name": "stdout",
     "output_type": "stream",
     "text": [
      "Số bản ghi trong bảng 'users': 3\n"
     ]
    }
   ],
   "source": [
    "def count_records():\n",
    "    # Kết nối tới cơ sở dữ liệu SQLite\n",
    "    conn = sqlite3.connect('example.db')\n",
    "    cursor = conn.cursor()\n",
    "\n",
    "    # Đếm số bản ghi trong bảng 'users'\n",
    "    cursor.execute('SELECT COUNT(*) FROM users')\n",
    "    count = cursor.fetchone()[0]\n",
    "\n",
    "    print(f\"Số bản ghi trong bảng 'users': {count}\")\n",
    "\n",
    "    # Đóng kết nối\n",
    "    conn.close()\n",
    "\n",
    "# Gọi hàm để đếm số bản ghi\n",
    "count_records()"
   ]
  }
 ],
 "metadata": {
  "kernelspec": {
   "display_name": "Python 3",
   "language": "python",
   "name": "python3"
  },
  "language_info": {
   "codemirror_mode": {
    "name": "ipython",
    "version": 3
   },
   "file_extension": ".py",
   "mimetype": "text/x-python",
   "name": "python",
   "nbconvert_exporter": "python",
   "pygments_lexer": "ipython3",
   "version": "3.12.3"
  }
 },
 "nbformat": 4,
 "nbformat_minor": 2
}
