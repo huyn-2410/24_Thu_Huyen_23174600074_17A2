{
 "cells": [
  {
   "cell_type": "code",
   "execution_count": 1,
   "metadata": {},
   "outputs": [],
   "source": [
    "import  sqlite3"
   ]
  },
  {
   "cell_type": "code",
   "execution_count": 2,
   "metadata": {},
   "outputs": [
    {
     "name": "stdout",
     "output_type": "stream",
     "text": [
      "SQLite Version: 3.45.1\n"
     ]
    }
   ],
   "source": [
    "def print_sqlite_version():\n",
    "    conn=sqlite3.connect('example.db')\n",
    "    cursor=conn.cursor()\n",
    "    cursor.execute('SELECT sqlite_version()')\n",
    "    version=cursor.fetchone()\n",
    "    print(f\"SQLite Version: {version[0]}\")\n",
    "    conn.close()\n",
    "print_sqlite_version()\n"
   ]
  }
 ],
 "metadata": {
  "kernelspec": {
   "display_name": "Python 3",
   "language": "python",
   "name": "python3"
  },
  "language_info": {
   "codemirror_mode": {
    "name": "ipython",
    "version": 3
   },
   "file_extension": ".py",
   "mimetype": "text/x-python",
   "name": "python",
   "nbconvert_exporter": "python",
   "pygments_lexer": "ipython3",
   "version": "3.12.3"
  }
 },
 "nbformat": 4,
 "nbformat_minor": 2
}
