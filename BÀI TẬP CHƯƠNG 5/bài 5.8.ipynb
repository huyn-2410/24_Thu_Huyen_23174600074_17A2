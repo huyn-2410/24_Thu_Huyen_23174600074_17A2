{
 "cells": [
  {
   "cell_type": "code",
   "execution_count": 1,
   "metadata": {},
   "outputs": [],
   "source": [
    "import sqlite3"
   ]
  },
  {
   "cell_type": "code",
   "execution_count": 2,
   "metadata": {},
   "outputs": [
    {
     "name": "stdout",
     "output_type": "stream",
     "text": [
      "Không tìm thấy hàng có ID = Enter.\n",
      "Danh sách các bản ghi còn lại:\n",
      "(1, 'Alice', 'Enter')\n",
      "(2, 'Bob', 'Enter')\n",
      "(3, 'Charlie', 'Enter')\n"
     ]
    }
   ],
   "source": [
    "def delete_specific_row():\n",
    "    # Kết nối tới cơ sở dữ liệu SQLite\n",
    "    conn = sqlite3.connect('example.db')\n",
    "    cursor = conn.cursor()\n",
    "\n",
    "    # Nhập ID của hàng cần xóa\n",
    "    row_id = input(\"Nhập ID của hàng cần xóa: \")\n",
    "\n",
    "    # Xóa hàng cụ thể trong bảng 'users'\n",
    "    cursor.execute('DELETE FROM users WHERE id = ?', (row_id,))\n",
    "\n",
    "    if cursor.rowcount > 0:\n",
    "        print(f\"Đã xóa thành công hàng có ID = {row_id}.\")\n",
    "    else:\n",
    "        print(f\"Không tìm thấy hàng có ID = {row_id}.\")\n",
    "\n",
    "    # Hiển thị các bản ghi còn lại\n",
    "    cursor.execute('SELECT * FROM users')\n",
    "    rows = cursor.fetchall()\n",
    "    print(\"Danh sách các bản ghi còn lại:\")\n",
    "    for row in rows:\n",
    "        print(row)\n",
    "\n",
    "    # Đóng kết nối\n",
    "    conn.commit()\n",
    "    conn.close()\n",
    "\n",
    "# Gọi hàm để xóa hàng cụ thể\n",
    "delete_specific_row()\n"
   ]
  }
 ],
 "metadata": {
  "kernelspec": {
   "display_name": "Python 3",
   "language": "python",
   "name": "python3"
  },
  "language_info": {
   "codemirror_mode": {
    "name": "ipython",
    "version": 3
   },
   "file_extension": ".py",
   "mimetype": "text/x-python",
   "name": "python",
   "nbconvert_exporter": "python",
   "pygments_lexer": "ipython3",
   "version": "3.12.3"
  }
 },
 "nbformat": 4,
 "nbformat_minor": 2
}
