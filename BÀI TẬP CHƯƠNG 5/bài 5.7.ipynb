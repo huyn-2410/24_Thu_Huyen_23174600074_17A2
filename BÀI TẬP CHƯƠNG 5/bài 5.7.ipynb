{
 "cells": [
  {
   "cell_type": "code",
   "execution_count": 1,
   "metadata": {},
   "outputs": [],
   "source": [
    "import sqlite3"
   ]
  },
  {
   "cell_type": "code",
   "execution_count": 2,
   "metadata": {},
   "outputs": [
    {
     "name": "stdout",
     "output_type": "stream",
     "text": [
      "Cập nhật tất cả các giá trị của cột 'age' thành Enter thành công.\n",
      "Danh sách các bản ghi sau khi cập nhật:\n",
      "(1, 'Alice', 'Enter')\n",
      "(2, 'Bob', 'Enter')\n",
      "(3, 'Charlie', 'Enter')\n"
     ]
    }
   ],
   "source": [
    "def update_column_values():\n",
    "    # Kết nối tới cơ sở dữ liệu SQLite\n",
    "    conn = sqlite3.connect('example.db')\n",
    "    cursor = conn.cursor()\n",
    "\n",
    "    # Giá trị mới cho cột cụ thể\n",
    "    new_value = input(\"Nhập giá trị mới cho cột age: \")\n",
    "\n",
    "    # Cập nhật tất cả các giá trị trong cột 'age' của bảng 'users'\n",
    "    cursor.execute('UPDATE users SET age = ?', (new_value,))\n",
    "\n",
    "    print(f\"Cập nhật tất cả các giá trị của cột 'age' thành {new_value} thành công.\")\n",
    "\n",
    "    # Hiển thị các bản ghi sau khi cập nhật\n",
    "    cursor.execute('SELECT * FROM users')\n",
    "    rows = cursor.fetchall()\n",
    "    print(\"Danh sách các bản ghi sau khi cập nhật:\")\n",
    "    for row in rows:\n",
    "        print(row)\n",
    "\n",
    "    # Đóng kết nối\n",
    "    conn.commit()\n",
    "    conn.close()\n",
    "\n",
    "# Gọi hàm để cập nhật cột\n",
    "update_column_values()\n"
   ]
  }
 ],
 "metadata": {
  "kernelspec": {
   "display_name": "Python 3",
   "language": "python",
   "name": "python3"
  },
  "language_info": {
   "codemirror_mode": {
    "name": "ipython",
    "version": 3
   },
   "file_extension": ".py",
   "mimetype": "text/x-python",
   "name": "python",
   "nbconvert_exporter": "python",
   "pygments_lexer": "ipython3",
   "version": "3.12.3"
  }
 },
 "nbformat": 4,
 "nbformat_minor": 2
}
