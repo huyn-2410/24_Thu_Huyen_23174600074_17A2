{
 "cells": [
  {
   "cell_type": "code",
   "execution_count": 1,
   "metadata": {},
   "outputs": [],
   "source": [
    "import sqlite3"
   ]
  },
  {
   "cell_type": "code",
   "execution_count": 2,
   "metadata": {},
   "outputs": [
    {
     "name": "stdout",
     "output_type": "stream",
     "text": [
      "Danh sách các bản ghi trong bảng 'users':\n",
      "(1, 'Alice', 30)\n",
      "(2, 'Bob', 25)\n",
      "(3, 'Charlie', 35)\n"
     ]
    }
   ],
   "source": [
    "def create_table_and_insert_records():\n",
    "    # Kết nối hoặc tạo cơ sở dữ liệu SQLite\n",
    "    conn = sqlite3.connect('example.db')\n",
    "    cursor = conn.cursor()\n",
    "\n",
    "    # Tạo bảng mới\n",
    "    cursor.execute('''\n",
    "    CREATE TABLE IF NOT EXISTS users (\n",
    "        id INTEGER PRIMARY KEY,\n",
    "        name TEXT NOT NULL,\n",
    "        age INTEGER NOT NULL\n",
    "    )\n",
    "    ''')\n",
    "\n",
    "    # Chèn một số bản ghi vào bảng\n",
    "    users = [\n",
    "        (1, 'Alice', 30),\n",
    "        (2, 'Bob', 25),\n",
    "        (3, 'Charlie', 35)\n",
    "    ]\n",
    "    cursor.executemany('INSERT OR IGNORE INTO users (id, name, age) VALUES (?, ?, ?)', users)\n",
    "\n",
    "    # Truy vấn tất cả các hàng trong bảng\n",
    "    cursor.execute('SELECT * FROM users')\n",
    "    rows = cursor.fetchall()\n",
    "\n",
    "    print(\"Danh sách các bản ghi trong bảng 'users':\")\n",
    "    for row in rows:\n",
    "        print(row)\n",
    "\n",
    "    # Đóng kết nối\n",
    "    conn.commit()\n",
    "    conn.close()\n",
    "\n",
    "# Gọi hàm để tạo bảng, chèn dữ liệu và hiển thị các bản ghi\n",
    "create_table_and_insert_records()\n"
   ]
  }
 ],
 "metadata": {
  "kernelspec": {
   "display_name": "Python 3",
   "language": "python",
   "name": "python3"
  },
  "language_info": {
   "codemirror_mode": {
    "name": "ipython",
    "version": 3
   },
   "file_extension": ".py",
   "mimetype": "text/x-python",
   "name": "python",
   "nbconvert_exporter": "python",
   "pygments_lexer": "ipython3",
   "version": "3.12.3"
  }
 },
 "nbformat": 4,
 "nbformat_minor": 2
}
