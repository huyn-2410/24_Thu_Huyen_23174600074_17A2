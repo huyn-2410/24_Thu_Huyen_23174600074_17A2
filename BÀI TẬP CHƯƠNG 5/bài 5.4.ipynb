{
 "cells": [
  {
   "cell_type": "code",
   "execution_count": 1,
   "metadata": {},
   "outputs": [],
   "source": [
    "import sqlite3"
   ]
  },
  {
   "cell_type": "code",
   "execution_count": 2,
   "metadata": {},
   "outputs": [
    {
     "name": "stdout",
     "output_type": "stream",
     "text": [
      "Danh sách các bảng trong cơ sở dữ liệu:\n",
      "- users\n"
     ]
    }
   ],
   "source": [
    "def list_tables():\n",
    "    # Kết nối tới cơ sở dữ liệu SQLite\n",
    "    conn = sqlite3.connect('example.db')\n",
    "    cursor = conn.cursor()\n",
    "\n",
    "    # Truy vấn danh sách các bảng trong cơ sở dữ liệu\n",
    "    cursor.execute(\"SELECT name FROM sqlite_master WHERE type='table'\")\n",
    "    tables = cursor.fetchall()\n",
    "\n",
    "    print(\"Danh sách các bảng trong cơ sở dữ liệu:\")\n",
    "    for table in tables:\n",
    "        print(f\"- {table[0]}\")\n",
    "\n",
    "    # Đóng kết nối\n",
    "    conn.close()\n",
    "\n",
    "# Gọi hàm để liệt kê các bảng\n",
    "list_tables()"
   ]
  }
 ],
 "metadata": {
  "kernelspec": {
   "display_name": "Python 3",
   "language": "python",
   "name": "python3"
  },
  "language_info": {
   "codemirror_mode": {
    "name": "ipython",
    "version": 3
   },
   "file_extension": ".py",
   "mimetype": "text/x-python",
   "name": "python",
   "nbconvert_exporter": "python",
   "pygments_lexer": "ipython3",
   "version": "3.12.3"
  }
 },
 "nbformat": 4,
 "nbformat_minor": 2
}
