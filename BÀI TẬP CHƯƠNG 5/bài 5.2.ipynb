{
 "cells": [
  {
   "cell_type": "code",
   "execution_count": 1,
   "metadata": {},
   "outputs": [],
   "source": [
    "import sqlite3"
   ]
  },
  {
   "cell_type": "code",
   "execution_count": 2,
   "metadata": {},
   "outputs": [
    {
     "name": "stdout",
     "output_type": "stream",
     "text": [
      "SQLite Version (In-Memory): 3.45.1\n"
     ]
    }
   ],
   "source": [
    "def connect_to_memory_database():\n",
    "    # Kết nối tới cơ sở dữ liệu trong bộ nhớ\n",
    "    conn = sqlite3.connect(':memory:')\n",
    "    cursor = conn.cursor()\n",
    "\n",
    "    # Lấy phiên bản SQLite\n",
    "    cursor.execute('SELECT sqlite_version()')\n",
    "    version = cursor.fetchone()\n",
    "\n",
    "    print(f\"SQLite Version (In-Memory): {version[0]}\")\n",
    "\n",
    "    # Đóng kết nối\n",
    "    conn.close()\n",
    "\n",
    "# Gọi hàm để kết nối và in phiên bản SQLite\n",
    "connect_to_memory_database()"
   ]
  }
 ],
 "metadata": {
  "kernelspec": {
   "display_name": "Python 3",
   "language": "python",
   "name": "python3"
  },
  "language_info": {
   "codemirror_mode": {
    "name": "ipython",
    "version": 3
   },
   "file_extension": ".py",
   "mimetype": "text/x-python",
   "name": "python",
   "nbconvert_exporter": "python",
   "pygments_lexer": "ipython3",
   "version": "3.12.3"
  }
 },
 "nbformat": 4,
 "nbformat_minor": 2
}
